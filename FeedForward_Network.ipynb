{
  "nbformat": 4,
  "nbformat_minor": 0,
  "metadata": {
    "colab": {
      "name": "FeedForward_Network.ipynb",
      "provenance": [],
      "authorship_tag": "ABX9TyOGvcOstLONLNAmWOieR9Pq",
      "include_colab_link": true
    },
    "kernelspec": {
      "name": "python3",
      "display_name": "Python 3"
    },
    "accelerator": "GPU"
  },
  "cells": [
    {
      "cell_type": "markdown",
      "metadata": {
        "id": "view-in-github",
        "colab_type": "text"
      },
      "source": [
        "<a href=\"https://colab.research.google.com/github/rgvananth/Pytorch_ML/blob/master/FeedForward_Network.ipynb\" target=\"_parent\"><img src=\"https://colab.research.google.com/assets/colab-badge.svg\" alt=\"Open In Colab\"/></a>"
      ]
    },
    {
      "cell_type": "code",
      "metadata": {
        "id": "JWzFLH7Y9R5x",
        "colab_type": "code",
        "colab": {}
      },
      "source": [
        "import torch\n",
        "import torch.nn as nn\n",
        "import torchvision\n",
        "import torchvision.transforms as transforms"
      ],
      "execution_count": 0,
      "outputs": []
    },
    {
      "cell_type": "code",
      "metadata": {
        "id": "6Q8XYw4f9cq7",
        "colab_type": "code",
        "colab": {}
      },
      "source": [
        "# HyperParametrs\n",
        "train_batch_size = 100\n",
        "test_batch_size = 100\n",
        "num_classes = 10\n",
        "input_size = 28 * 28\n",
        "learning_rate = 0.001\n",
        "device = 'cuda:0' if torch.cuda.is_available() else 'cpu'\n",
        "num_epochs = 10\n",
        "hidden_size = 400"
      ],
      "execution_count": 0,
      "outputs": []
    },
    {
      "cell_type": "code",
      "metadata": {
        "id": "8vILE-GP9dc3",
        "colab_type": "code",
        "colab": {}
      },
      "source": [
        "# Data Set Initialization and Data Loader\n",
        "\n",
        "train_dataset = torchvision.datasets.MNIST(root='../../data', \n",
        "                                           train=True, \n",
        "                                           download=True, \n",
        "                                           transform=transforms.ToTensor())\n",
        "test_dataset = torchvision.datasets.MNIST(root='../../data', \n",
        "                                          train = False, \n",
        "                                          download=True, \n",
        "                                          transform=transforms.ToTensor())\n",
        "\n",
        "train_data_loader = torch.utils.data.DataLoader(dataset=train_dataset, \n",
        "                                                batch_size=train_batch_size, \n",
        "                                                shuffle=True)\n",
        "\n",
        "test_data_loader = torch.utils.data.DataLoader(dataset=test_dataset, \n",
        "                                                batch_size=test_batch_size, \n",
        "                                                shuffle=True)"
      ],
      "execution_count": 0,
      "outputs": []
    },
    {
      "cell_type": "code",
      "metadata": {
        "id": "4ekukMLs9feD",
        "colab_type": "code",
        "colab": {}
      },
      "source": [
        "class FeedForward(nn.Module):\n",
        "  def __init__(self, input_size, hidden_size, num_classes):\n",
        "    super(FeedForward, self).__init__()\n",
        "    self.input_size = input_size\n",
        "    self.num_classes = num_classes\n",
        "    self.hidden_size = hidden_size\n",
        "    self.fc1 = nn.Linear(input_size,hidden_size)\n",
        "    self.relu = nn.ReLU()\n",
        "    self.fc2 = nn.Linear(hidden_size, num_classes)\n",
        "    \n",
        "  def forward(self, x):\n",
        "    x = self.fc1(x)\n",
        "    x = self.relu(x)\n",
        "    x = self.fc2(x)\n",
        "    return x\n",
        "\n",
        "model = FeedForward(input_size, hidden_size, num_classes).to(device)\n",
        "criterion = nn.CrossEntropyLoss()\n",
        "optimizer = torch.optim.Adam(model.parameters(), lr= learning_rate)"
      ],
      "execution_count": 0,
      "outputs": []
    },
    {
      "cell_type": "code",
      "metadata": {
        "id": "nWM87oZc-KGr",
        "colab_type": "code",
        "colab": {
          "base_uri": "https://localhost:8080/",
          "height": 1000
        },
        "outputId": "f2870957-fa66-4ee4-e32b-3a104bd89829"
      },
      "source": [
        "for epoch in range(num_epochs):\n",
        "  for i, (images, label) in enumerate(train_data_loader):\n",
        "    inputs = images.reshape(-1, input_size).to(device)\n",
        "    label = label.to(device)\n",
        "\n",
        "    pred = model(inputs)\n",
        "    loss = criterion(pred, label)\n",
        "    optimizer.zero_grad()\n",
        "    loss.backward()\n",
        "    optimizer.step()\n",
        "\n",
        "    if (i+1) % 100 == 0:\n",
        "      print('Loss for batch: {} in Epoch : {} is: {}'.format(i+1, epoch, loss))"
      ],
      "execution_count": 14,
      "outputs": [
        {
          "output_type": "stream",
          "text": [
            "Loss for batch: 100 in Epoch : 0 is: 0.36874324083328247\n",
            "Loss for batch: 200 in Epoch : 0 is: 0.21211765706539154\n",
            "Loss for batch: 300 in Epoch : 0 is: 0.22160173952579498\n",
            "Loss for batch: 400 in Epoch : 0 is: 0.1500926911830902\n",
            "Loss for batch: 500 in Epoch : 0 is: 0.18001213669776917\n",
            "Loss for batch: 600 in Epoch : 0 is: 0.09164437651634216\n",
            "Loss for batch: 100 in Epoch : 1 is: 0.1233232319355011\n",
            "Loss for batch: 200 in Epoch : 1 is: 0.08720438182353973\n",
            "Loss for batch: 300 in Epoch : 1 is: 0.19730213284492493\n",
            "Loss for batch: 400 in Epoch : 1 is: 0.13402265310287476\n",
            "Loss for batch: 500 in Epoch : 1 is: 0.09600691497325897\n",
            "Loss for batch: 600 in Epoch : 1 is: 0.07377222180366516\n",
            "Loss for batch: 100 in Epoch : 2 is: 0.1187625527381897\n",
            "Loss for batch: 200 in Epoch : 2 is: 0.04964162036776543\n",
            "Loss for batch: 300 in Epoch : 2 is: 0.04458818584680557\n",
            "Loss for batch: 400 in Epoch : 2 is: 0.10933146625757217\n",
            "Loss for batch: 500 in Epoch : 2 is: 0.07674634456634521\n",
            "Loss for batch: 600 in Epoch : 2 is: 0.037746280431747437\n",
            "Loss for batch: 100 in Epoch : 3 is: 0.032436978071928024\n",
            "Loss for batch: 200 in Epoch : 3 is: 0.04083971679210663\n",
            "Loss for batch: 300 in Epoch : 3 is: 0.03849252313375473\n",
            "Loss for batch: 400 in Epoch : 3 is: 0.04343782365322113\n",
            "Loss for batch: 500 in Epoch : 3 is: 0.04025939106941223\n",
            "Loss for batch: 600 in Epoch : 3 is: 0.052950669080019\n",
            "Loss for batch: 100 in Epoch : 4 is: 0.0456961914896965\n",
            "Loss for batch: 200 in Epoch : 4 is: 0.019579851999878883\n",
            "Loss for batch: 300 in Epoch : 4 is: 0.025866927579045296\n",
            "Loss for batch: 400 in Epoch : 4 is: 0.024654360488057137\n",
            "Loss for batch: 500 in Epoch : 4 is: 0.04632415249943733\n",
            "Loss for batch: 600 in Epoch : 4 is: 0.09916730970144272\n",
            "Loss for batch: 100 in Epoch : 5 is: 0.037661053240299225\n",
            "Loss for batch: 200 in Epoch : 5 is: 0.010634873062372208\n",
            "Loss for batch: 300 in Epoch : 5 is: 0.0060810185968875885\n",
            "Loss for batch: 400 in Epoch : 5 is: 0.050609175115823746\n",
            "Loss for batch: 500 in Epoch : 5 is: 0.02712755650281906\n",
            "Loss for batch: 600 in Epoch : 5 is: 0.0060053919441998005\n",
            "Loss for batch: 100 in Epoch : 6 is: 0.011254899203777313\n",
            "Loss for batch: 200 in Epoch : 6 is: 0.014800822362303734\n",
            "Loss for batch: 300 in Epoch : 6 is: 0.04452802613377571\n",
            "Loss for batch: 400 in Epoch : 6 is: 0.11140530556440353\n",
            "Loss for batch: 500 in Epoch : 6 is: 0.014767208136618137\n",
            "Loss for batch: 600 in Epoch : 6 is: 0.01616872474551201\n",
            "Loss for batch: 100 in Epoch : 7 is: 0.01929352805018425\n",
            "Loss for batch: 200 in Epoch : 7 is: 0.012233888730406761\n",
            "Loss for batch: 300 in Epoch : 7 is: 0.056472450494766235\n",
            "Loss for batch: 400 in Epoch : 7 is: 0.006405907683074474\n",
            "Loss for batch: 500 in Epoch : 7 is: 0.007312280125916004\n",
            "Loss for batch: 600 in Epoch : 7 is: 0.009318399243056774\n",
            "Loss for batch: 100 in Epoch : 8 is: 0.014709259383380413\n",
            "Loss for batch: 200 in Epoch : 8 is: 0.025562459602952003\n",
            "Loss for batch: 300 in Epoch : 8 is: 0.0644650012254715\n",
            "Loss for batch: 400 in Epoch : 8 is: 0.014559756964445114\n",
            "Loss for batch: 500 in Epoch : 8 is: 0.024409057572484016\n",
            "Loss for batch: 600 in Epoch : 8 is: 0.012272429652512074\n",
            "Loss for batch: 100 in Epoch : 9 is: 0.0075167203322052956\n",
            "Loss for batch: 200 in Epoch : 9 is: 0.005359492264688015\n",
            "Loss for batch: 300 in Epoch : 9 is: 0.009247512556612492\n",
            "Loss for batch: 400 in Epoch : 9 is: 0.023498859256505966\n",
            "Loss for batch: 500 in Epoch : 9 is: 0.003996942192316055\n",
            "Loss for batch: 600 in Epoch : 9 is: 0.0023912095930427313\n"
          ],
          "name": "stdout"
        }
      ]
    },
    {
      "cell_type": "code",
      "metadata": {
        "id": "TDdOnUoS-UoL",
        "colab_type": "code",
        "colab": {
          "base_uri": "https://localhost:8080/",
          "height": 35
        },
        "outputId": "72b11400-5c9e-4768-d6ca-d121631ec0a7"
      },
      "source": [
        "with torch.no_grad():\n",
        "    correct = 0\n",
        "    total = 0\n",
        "    for images, labels in test_data_loader:\n",
        "        images = images.reshape(-1, input_size).to(device)\n",
        "        outputs = model(images).cpu()\n",
        "        _, predicted = torch.max(outputs.data, 1)\n",
        "        total += labels.size(0)\n",
        "        correct += (predicted == labels).sum()\n",
        "\n",
        "    print('Accuracy of the model on the 10000 test images: {} %'.format(100 * correct / total))"
      ],
      "execution_count": 15,
      "outputs": [
        {
          "output_type": "stream",
          "text": [
            "Accuracy of the model on the 10000 test images: 98 %\n"
          ],
          "name": "stdout"
        }
      ]
    },
    {
      "cell_type": "code",
      "metadata": {
        "id": "4SUqP8j2-1Ad",
        "colab_type": "code",
        "colab": {}
      },
      "source": [
        ""
      ],
      "execution_count": 0,
      "outputs": []
    }
  ]
}