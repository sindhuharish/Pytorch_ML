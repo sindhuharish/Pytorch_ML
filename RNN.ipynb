{
  "nbformat": 4,
  "nbformat_minor": 0,
  "metadata": {
    "colab": {
      "name": "RNN.ipynb",
      "provenance": [],
      "authorship_tag": "ABX9TyNzrfcaFqVlCWaGpmVlgrCQ",
      "include_colab_link": true
    },
    "kernelspec": {
      "name": "python3",
      "display_name": "Python 3"
    },
    "accelerator": "GPU"
  },
  "cells": [
    {
      "cell_type": "markdown",
      "metadata": {
        "id": "view-in-github",
        "colab_type": "text"
      },
      "source": [
        "<a href=\"https://colab.research.google.com/github/rgvananth/Pytorch_ML/blob/master/RNN.ipynb\" target=\"_parent\"><img src=\"https://colab.research.google.com/assets/colab-badge.svg\" alt=\"Open In Colab\"/></a>"
      ]
    },
    {
      "cell_type": "code",
      "metadata": {
        "id": "UBXlmF9-_TOu",
        "colab_type": "code",
        "colab": {}
      },
      "source": [
        "import torch\n",
        "import torch.nn as nn\n",
        "import torchvision\n",
        "import torchvision.transforms as transforms"
      ],
      "execution_count": 0,
      "outputs": []
    },
    {
      "cell_type": "code",
      "metadata": {
        "id": "rLzcy7vC_Zws",
        "colab_type": "code",
        "colab": {}
      },
      "source": [
        "# HyperParametrs\n",
        "train_batch_size = 100\n",
        "test_batch_size = 100\n",
        "num_classes = 10\n",
        "input_size = 28\n",
        "learning_rate = 0.001\n",
        "device = 'cuda:0' if torch.cuda.is_available() else 'cpu'\n",
        "num_epochs = 10\n",
        "hidden_size = 150\n",
        "num_layers = 2\n",
        "seq_length = 28"
      ],
      "execution_count": 0,
      "outputs": []
    },
    {
      "cell_type": "code",
      "metadata": {
        "id": "U3uRX5mo_fH5",
        "colab_type": "code",
        "colab": {}
      },
      "source": [
        "# Data Set Initialization and Data Loader\n",
        "\n",
        "train_dataset = torchvision.datasets.MNIST(root='../../data', \n",
        "                                           train=True, \n",
        "                                           download=True, \n",
        "                                           transform=transforms.ToTensor())\n",
        "test_dataset = torchvision.datasets.MNIST(root='../../data', \n",
        "                                          train = False, \n",
        "                                          download=True, \n",
        "                                          transform=transforms.ToTensor())\n",
        "\n",
        "train_data_loader = torch.utils.data.DataLoader(dataset=train_dataset, \n",
        "                                                batch_size=train_batch_size, \n",
        "                                                shuffle=True)\n",
        "\n",
        "test_data_loader = torch.utils.data.DataLoader(dataset=test_dataset, \n",
        "                                                batch_size=test_batch_size, \n",
        "                                                shuffle=True)"
      ],
      "execution_count": 0,
      "outputs": []
    },
    {
      "cell_type": "code",
      "metadata": {
        "id": "7DgOM1Op_gah",
        "colab_type": "code",
        "colab": {}
      },
      "source": [
        "class RNN(nn.Module):\n",
        "  def __init__(self, input_size, hidden_size, num_layers, num_classes):\n",
        "    super(RNN, self).__init__()\n",
        "    self.input_size = input_size\n",
        "    self.num_classes = num_classes\n",
        "    self.hidden_size = hidden_size\n",
        "    self.num_layers = num_layers\n",
        "    self.lstm = nn.LSTM(input_size, hidden_size, num_layers, batch_first=True)\n",
        "    self.fc = nn.Linear(hidden_size, num_classes)\n",
        "    \n",
        "  def forward(self, x):\n",
        "    # Initial hidden and cell states\n",
        "    h0 = torch.zeros(self.num_layers, x.size(0), self.hidden_size).to(device)\n",
        "    c0 = torch.zeros(self.num_layers, x.size(0), self.hidden_size).to(device)\n",
        "    out, _ = self.lstm(x, (h0,c0))\n",
        "    #Decode hidden state - last time step\n",
        "    out = self.fc(out[:, -1, :])\n",
        "    return out\n",
        "\n",
        "model = RNN(input_size, hidden_size, num_layers, num_classes).to(device)\n",
        "criterion = nn.CrossEntropyLoss()\n",
        "optimizer = torch.optim.Adam(model.parameters(), lr= learning_rate)"
      ],
      "execution_count": 0,
      "outputs": []
    },
    {
      "cell_type": "code",
      "metadata": {
        "id": "_i8w4z9FAtnK",
        "colab_type": "code",
        "colab": {
          "base_uri": "https://localhost:8080/",
          "height": 1000
        },
        "outputId": "9b4c3b5c-8248-4212-c548-1aab0eebbd30"
      },
      "source": [
        "for epoch in range(num_epochs):\n",
        "  for i, (images, label) in enumerate(train_data_loader):\n",
        "    inputs = images.reshape(-1, seq_length, input_size).to(device)\n",
        "    label = label.to(device)\n",
        "\n",
        "    pred = model(inputs)\n",
        "    loss = criterion(pred, label)\n",
        "    optimizer.zero_grad()\n",
        "    loss.backward()\n",
        "    optimizer.step()\n",
        "\n",
        "    if (i+1) % 100 == 0:\n",
        "      print('Loss for batch: {} in Epoch : {} is: {}'.format(i+1, epoch, loss))"
      ],
      "execution_count": 22,
      "outputs": [
        {
          "output_type": "stream",
          "text": [
            "Loss for batch: 100 in Epoch : 0 is: 0.6752113103866577\n",
            "Loss for batch: 200 in Epoch : 0 is: 0.5097470283508301\n",
            "Loss for batch: 300 in Epoch : 0 is: 0.2885512411594391\n",
            "Loss for batch: 400 in Epoch : 0 is: 0.1788935512304306\n",
            "Loss for batch: 500 in Epoch : 0 is: 0.13708044588565826\n",
            "Loss for batch: 600 in Epoch : 0 is: 0.10348205268383026\n",
            "Loss for batch: 100 in Epoch : 1 is: 0.1789693385362625\n",
            "Loss for batch: 200 in Epoch : 1 is: 0.05596165359020233\n",
            "Loss for batch: 300 in Epoch : 1 is: 0.05727647244930267\n",
            "Loss for batch: 400 in Epoch : 1 is: 0.02008962072432041\n",
            "Loss for batch: 500 in Epoch : 1 is: 0.22185809910297394\n",
            "Loss for batch: 600 in Epoch : 1 is: 0.11218936741352081\n",
            "Loss for batch: 100 in Epoch : 2 is: 0.03229854255914688\n",
            "Loss for batch: 200 in Epoch : 2 is: 0.12151230871677399\n",
            "Loss for batch: 300 in Epoch : 2 is: 0.05640658363699913\n",
            "Loss for batch: 400 in Epoch : 2 is: 0.04344066604971886\n",
            "Loss for batch: 500 in Epoch : 2 is: 0.022698871791362762\n",
            "Loss for batch: 600 in Epoch : 2 is: 0.0217842236161232\n",
            "Loss for batch: 100 in Epoch : 3 is: 0.038154009729623795\n",
            "Loss for batch: 200 in Epoch : 3 is: 0.10889028757810593\n",
            "Loss for batch: 300 in Epoch : 3 is: 0.11331196129322052\n",
            "Loss for batch: 400 in Epoch : 3 is: 0.06358644366264343\n",
            "Loss for batch: 500 in Epoch : 3 is: 0.05393571779131889\n",
            "Loss for batch: 600 in Epoch : 3 is: 0.028567558154463768\n",
            "Loss for batch: 100 in Epoch : 4 is: 0.012079477310180664\n",
            "Loss for batch: 200 in Epoch : 4 is: 0.037665821611881256\n",
            "Loss for batch: 300 in Epoch : 4 is: 0.0838833823800087\n",
            "Loss for batch: 400 in Epoch : 4 is: 0.032481297850608826\n",
            "Loss for batch: 500 in Epoch : 4 is: 0.08934801071882248\n",
            "Loss for batch: 600 in Epoch : 4 is: 0.024426249787211418\n",
            "Loss for batch: 100 in Epoch : 5 is: 0.017612934112548828\n",
            "Loss for batch: 200 in Epoch : 5 is: 0.017774172127246857\n",
            "Loss for batch: 300 in Epoch : 5 is: 0.03351129591464996\n",
            "Loss for batch: 400 in Epoch : 5 is: 0.005943460389971733\n",
            "Loss for batch: 500 in Epoch : 5 is: 0.011729588732123375\n",
            "Loss for batch: 600 in Epoch : 5 is: 0.09705135226249695\n",
            "Loss for batch: 100 in Epoch : 6 is: 0.06636866927146912\n",
            "Loss for batch: 200 in Epoch : 6 is: 0.044268131256103516\n",
            "Loss for batch: 300 in Epoch : 6 is: 0.07332120090723038\n",
            "Loss for batch: 400 in Epoch : 6 is: 0.046184610575437546\n",
            "Loss for batch: 500 in Epoch : 6 is: 0.04931039735674858\n",
            "Loss for batch: 600 in Epoch : 6 is: 0.01335147861391306\n",
            "Loss for batch: 100 in Epoch : 7 is: 0.04121466726064682\n",
            "Loss for batch: 200 in Epoch : 7 is: 0.010185232385993004\n",
            "Loss for batch: 300 in Epoch : 7 is: 0.0017941188998520374\n",
            "Loss for batch: 400 in Epoch : 7 is: 0.035273488610982895\n",
            "Loss for batch: 500 in Epoch : 7 is: 0.026315204799175262\n",
            "Loss for batch: 600 in Epoch : 7 is: 0.025781702250242233\n",
            "Loss for batch: 100 in Epoch : 8 is: 0.013507685624063015\n",
            "Loss for batch: 200 in Epoch : 8 is: 0.0013223695568740368\n",
            "Loss for batch: 300 in Epoch : 8 is: 0.013406991958618164\n",
            "Loss for batch: 400 in Epoch : 8 is: 0.06871823966503143\n",
            "Loss for batch: 500 in Epoch : 8 is: 0.02021901123225689\n",
            "Loss for batch: 600 in Epoch : 8 is: 0.013266959227621555\n",
            "Loss for batch: 100 in Epoch : 9 is: 0.028278980404138565\n",
            "Loss for batch: 200 in Epoch : 9 is: 0.05092692747712135\n",
            "Loss for batch: 300 in Epoch : 9 is: 0.013056530617177486\n",
            "Loss for batch: 400 in Epoch : 9 is: 0.029145073145627975\n",
            "Loss for batch: 500 in Epoch : 9 is: 0.04850008338689804\n",
            "Loss for batch: 600 in Epoch : 9 is: 0.04157308489084244\n"
          ],
          "name": "stdout"
        }
      ]
    },
    {
      "cell_type": "code",
      "metadata": {
        "id": "L5J6NLpMA07c",
        "colab_type": "code",
        "colab": {
          "base_uri": "https://localhost:8080/",
          "height": 35
        },
        "outputId": "3b13efb7-0ee1-482c-bd5a-3413f73131b0"
      },
      "source": [
        "with torch.no_grad():\n",
        "    correct = 0\n",
        "    total = 0\n",
        "    for images, labels in test_data_loader:\n",
        "        images = images.reshape(-1, seq_length, input_size).to(device)\n",
        "        outputs = model(images).cpu()\n",
        "        _, predicted = torch.max(outputs.data, 1)\n",
        "        total += labels.size(0)\n",
        "        correct += (predicted == labels).sum()\n",
        "\n",
        "    print('Accuracy of the model on the 10000 test images: {} %'.format(100 * correct / total))"
      ],
      "execution_count": 24,
      "outputs": [
        {
          "output_type": "stream",
          "text": [
            "Accuracy of the model on the 10000 test images: 98 %\n"
          ],
          "name": "stdout"
        }
      ]
    },
    {
      "cell_type": "code",
      "metadata": {
        "id": "9DrJ-iehA1XC",
        "colab_type": "code",
        "colab": {}
      },
      "source": [
        ""
      ],
      "execution_count": 0,
      "outputs": []
    }
  ]
}